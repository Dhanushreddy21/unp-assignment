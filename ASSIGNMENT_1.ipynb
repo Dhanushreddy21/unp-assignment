{
  "nbformat": 4,
  "nbformat_minor": 0,
  "metadata": {
    "colab": {
      "name": "ASSIGNMENT-1.ipynb",
      "provenance": [],
      "collapsed_sections": []
    },
    "kernelspec": {
      "name": "python3",
      "display_name": "Python 3"
    },
    "language_info": {
      "name": "python"
    }
  },
  "cells": [
    {
      "cell_type": "markdown",
      "source": [
        "Your friend measures his body temperature using a thermometer and finds the\n",
        "reading to be 100 degree Farenheit. Can you please let us know the reading in Celsius scale?"
      ],
      "metadata": {
        "id": "5T4eo5qx2Jwe"
      }
    },
    {
      "cell_type": "code",
      "source": [
        "#far= farenheit\n",
        "#cel=celsius\n",
        "far=100\n",
        "Cel = (5/9) * (far - 32)\n",
        "print(Cel)"
      ],
      "metadata": {
        "colab": {
          "base_uri": "https://localhost:8080/"
        },
        "id": "akPPucB42Njb",
        "outputId": "a285b253-7a39-4a8b-f6ca-324cf90597bd"
      },
      "execution_count": null,
      "outputs": [
        {
          "output_type": "stream",
          "name": "stdout",
          "text": [
            "37.77777777777778\n"
          ]
        }
      ]
    },
    {
      "cell_type": "markdown",
      "source": [
        "\n",
        "The cost of producing x unit of item in a factory is y. Cost y is related\n",
        "to unit x by the following formula\n",
        "y= ax^2+bx+c where\n",
        "a, b, c are constants having value 2, 5, 1020 respectively.\n",
        "In this text (not in python language) ^ represents raised to the power.\n",
        "If management wants to produce 10,000 quantities of product, please let us know\n",
        "the average manufacturing cost for a single item.**bold text**"
      ],
      "metadata": {
        "id": "JiG03NrH2Yes"
      }
    },
    {
      "cell_type": "code",
      "source": [
        "x=10000\n",
        "a=2\n",
        "b=5\n",
        "c=1020\n",
        "y=(a*(x**2))+(b*x)+c\n",
        "z=y/x\n",
        "print(z)"
      ],
      "metadata": {
        "colab": {
          "base_uri": "https://localhost:8080/"
        },
        "id": "T9b1BeXc2jOa",
        "outputId": "bfff534e-dfbe-428f-aa6e-eacf075b19b7"
      },
      "execution_count": null,
      "outputs": [
        {
          "output_type": "stream",
          "name": "stdout",
          "text": [
            "20005.102\n"
          ]
        }
      ]
    },
    {
      "cell_type": "code",
      "source": [
        ""
      ],
      "metadata": {
        "id": "B41twSKw2gio"
      },
      "execution_count": null,
      "outputs": []
    }
  ]
}