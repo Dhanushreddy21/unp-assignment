{
  "nbformat": 4,
  "nbformat_minor": 0,
  "metadata": {
    "colab": {
      "name": "assignment 2.ipynb",
      "provenance": [],
      "collapsed_sections": []
    },
    "kernelspec": {
      "name": "python3",
      "display_name": "Python 3"
    },
    "language_info": {
      "name": "python"
    }
  },
  "cells": [
    {
      "cell_type": "markdown",
      "source": [
        "Write a small program to check a number is divisible by 7 or not"
      ],
      "metadata": {
        "id": "uifKQmyG3DOk"
      }
    },
    {
      "cell_type": "code",
      "source": [
        "a=int(input(\"Enter a number:\"))\n",
        "if(a%7 ==0):\n",
        "  print(a,\"is divisible by 7\")\n",
        "else:\n",
        "  print(a,\"is not divisible by 7\")"
      ],
      "metadata": {
        "colab": {
          "base_uri": "https://localhost:8080/"
        },
        "id": "CIC5drwO3RP6",
        "outputId": "f4ead1ec-3baf-40ca-edd3-9eaf93fd6853"
      },
      "execution_count": null,
      "outputs": [
        {
          "output_type": "stream",
          "name": "stdout",
          "text": [
            "Enter a number:55\n",
            "55 is not divisible by 7\n"
          ]
        }
      ]
    },
    {
      "cell_type": "markdown",
      "source": [
        "If a number is divisible by either 5 or 7, then we will call it a 'five-or-seven' number.\n",
        "Write down a program to check if a number is 'five-or-seven' number or not."
      ],
      "metadata": {
        "id": "YVCxzLgY3Ylu"
      }
    },
    {
      "cell_type": "code",
      "source": [
        "num=int(input(\"Enter a number:\"))\n",
        "if((num%5==0) or (num%7==0)):\n",
        "  print(\"its a five-or-seven number\")\n",
        "else:\n",
        "  print(\"its not a five-or-seven number\")"
      ],
      "metadata": {
        "colab": {
          "base_uri": "https://localhost:8080/"
        },
        "id": "XnIUiL5W3dHy",
        "outputId": "8e4de9cb-f1ee-4e41-b290-6ba57bcd2917"
      },
      "execution_count": null,
      "outputs": [
        {
          "output_type": "stream",
          "name": "stdout",
          "text": [
            "Enter a number:44\n",
            "its not a five-or-seven number\n"
          ]
        }
      ]
    },
    {
      "cell_type": "markdown",
      "source": [
        "Write a program to calculate the electricity bill (accept number of unit from user) according to the following criteria:\n",
        "\n",
        "Upto first 100 units Rs. 3 per unit.\n",
        "Next 100 units Rs. 5 per unit.\n",
        "Next 300 units Rs. 7 per unit.\n",
        "Above that, for each unit exceeding 500, Rs. 10 per unit flat."
      ],
      "metadata": {
        "id": "8TEkBZUn3pr5"
      }
    },
    {
      "cell_type": "code",
      "source": [
        "unit=250\n",
        "if(unit<=100):\n",
        "  print(unit*3)\n",
        "elif(unit<200):\n",
        "  print(unit*5)\n",
        "elif(unit<500):\n",
        "  print(unit*7)\n",
        "else:\n",
        "  print(unit*10)"
      ],
      "metadata": {
        "colab": {
          "base_uri": "https://localhost:8080/"
        },
        "id": "0tyJk9mb3v_U",
        "outputId": "ab40f1aa-2b15-43a7-f015-29a598ea6c8a"
      },
      "execution_count": null,
      "outputs": [
        {
          "output_type": "stream",
          "name": "stdout",
          "text": [
            "1750\n"
          ]
        }
      ]
    },
    {
      "cell_type": "markdown",
      "source": [
        "Find out sum of square of all the numbers upto 10, starting from 1"
      ],
      "metadata": {
        "id": "WhQHzdTJ35e7"
      }
    },
    {
      "cell_type": "code",
      "source": [
        "num=10\n",
        "sum=0\n",
        "while num>0:\n",
        "  sum=sum+(num*num)\n",
        "  num=num-1\n",
        "print(sum)"
      ],
      "metadata": {
        "colab": {
          "base_uri": "https://localhost:8080/"
        },
        "id": "Qzdsl34y36dc",
        "outputId": "7915a1a3-782b-40cf-b6d9-8667297e683b"
      },
      "execution_count": null,
      "outputs": [
        {
          "output_type": "stream",
          "name": "stdout",
          "text": [
            "385\n"
          ]
        }
      ]
    },
    {
      "cell_type": "markdown",
      "source": [
        "Find out sum of square of all the even numbers upto 10, starting from 1"
      ],
      "metadata": {
        "id": "XSzlk7zS396b"
      }
    },
    {
      "cell_type": "code",
      "source": [
        "sum=0\n",
        "\n",
        "for num in range(1,11):\n",
        "  if(num%2==0):\n",
        "    sum=sum+(num*num)\n",
        "\n",
        "print(sum)"
      ],
      "metadata": {
        "colab": {
          "base_uri": "https://localhost:8080/"
        },
        "id": "H5Yz_zoN4Ati",
        "outputId": "d7d93d4b-45cf-4c07-ddca-de0c1c8eca11"
      },
      "execution_count": null,
      "outputs": [
        {
          "output_type": "stream",
          "name": "stdout",
          "text": [
            "220\n"
          ]
        }
      ]
    },
    {
      "cell_type": "markdown",
      "source": [
        "Check a number is prime or not"
      ],
      "metadata": {
        "id": "Uzj1kOvT4E7D"
      }
    },
    {
      "cell_type": "code",
      "source": [
        "num = int(input(\"enter a number:\"))\n",
        "if num > 1:\n",
        "    for i in range(2, int(num/2)+1):\n",
        "        if (num % i) == 0:\n",
        "            print(num, \"is not a prime number\")\n",
        "            break\n",
        "    else:\n",
        "        print(num, \"is a prime number\")"
      ],
      "metadata": {
        "colab": {
          "base_uri": "https://localhost:8080/"
        },
        "id": "afO4vQsg4IGD",
        "outputId": "59685795-b167-45df-b51e-44c1eccc7ceb"
      },
      "execution_count": null,
      "outputs": [
        {
          "output_type": "stream",
          "name": "stdout",
          "text": [
            "enter a number:13\n",
            "13 is a prime number\n"
          ]
        }
      ]
    },
    {
      "cell_type": "markdown",
      "source": [
        "Print multiplication table upto 10 starting from 1"
      ],
      "metadata": {
        "id": "A4kcusSA4NCi"
      }
    },
    {
      "cell_type": "code",
      "source": [
        "for num in range(1,11):\n",
        "  for i in range(1,11):\n",
        "     print(num,\"*\",i,\"=\",num*1)"
      ],
      "metadata": {
        "colab": {
          "base_uri": "https://localhost:8080/"
        },
        "id": "mGFQ3YZF4Pv6",
        "outputId": "226ca463-5c4f-4188-e7ec-6e42c71c7c30"
      },
      "execution_count": null,
      "outputs": [
        {
          "output_type": "stream",
          "name": "stdout",
          "text": [
            "1 * 1 = 1\n",
            "1 * 2 = 1\n",
            "1 * 3 = 1\n",
            "1 * 4 = 1\n",
            "1 * 5 = 1\n",
            "1 * 6 = 1\n",
            "1 * 7 = 1\n",
            "1 * 8 = 1\n",
            "1 * 9 = 1\n",
            "1 * 10 = 1\n",
            "2 * 1 = 2\n",
            "2 * 2 = 2\n",
            "2 * 3 = 2\n",
            "2 * 4 = 2\n",
            "2 * 5 = 2\n",
            "2 * 6 = 2\n",
            "2 * 7 = 2\n",
            "2 * 8 = 2\n",
            "2 * 9 = 2\n",
            "2 * 10 = 2\n",
            "3 * 1 = 3\n",
            "3 * 2 = 3\n",
            "3 * 3 = 3\n",
            "3 * 4 = 3\n",
            "3 * 5 = 3\n",
            "3 * 6 = 3\n",
            "3 * 7 = 3\n",
            "3 * 8 = 3\n",
            "3 * 9 = 3\n",
            "3 * 10 = 3\n",
            "4 * 1 = 4\n",
            "4 * 2 = 4\n",
            "4 * 3 = 4\n",
            "4 * 4 = 4\n",
            "4 * 5 = 4\n",
            "4 * 6 = 4\n",
            "4 * 7 = 4\n",
            "4 * 8 = 4\n",
            "4 * 9 = 4\n",
            "4 * 10 = 4\n",
            "5 * 1 = 5\n",
            "5 * 2 = 5\n",
            "5 * 3 = 5\n",
            "5 * 4 = 5\n",
            "5 * 5 = 5\n",
            "5 * 6 = 5\n",
            "5 * 7 = 5\n",
            "5 * 8 = 5\n",
            "5 * 9 = 5\n",
            "5 * 10 = 5\n",
            "6 * 1 = 6\n",
            "6 * 2 = 6\n",
            "6 * 3 = 6\n",
            "6 * 4 = 6\n",
            "6 * 5 = 6\n",
            "6 * 6 = 6\n",
            "6 * 7 = 6\n",
            "6 * 8 = 6\n",
            "6 * 9 = 6\n",
            "6 * 10 = 6\n",
            "7 * 1 = 7\n",
            "7 * 2 = 7\n",
            "7 * 3 = 7\n",
            "7 * 4 = 7\n",
            "7 * 5 = 7\n",
            "7 * 6 = 7\n",
            "7 * 7 = 7\n",
            "7 * 8 = 7\n",
            "7 * 9 = 7\n",
            "7 * 10 = 7\n",
            "8 * 1 = 8\n",
            "8 * 2 = 8\n",
            "8 * 3 = 8\n",
            "8 * 4 = 8\n",
            "8 * 5 = 8\n",
            "8 * 6 = 8\n",
            "8 * 7 = 8\n",
            "8 * 8 = 8\n",
            "8 * 9 = 8\n",
            "8 * 10 = 8\n",
            "9 * 1 = 9\n",
            "9 * 2 = 9\n",
            "9 * 3 = 9\n",
            "9 * 4 = 9\n",
            "9 * 5 = 9\n",
            "9 * 6 = 9\n",
            "9 * 7 = 9\n",
            "9 * 8 = 9\n",
            "9 * 9 = 9\n",
            "9 * 10 = 9\n",
            "10 * 1 = 10\n",
            "10 * 2 = 10\n",
            "10 * 3 = 10\n",
            "10 * 4 = 10\n",
            "10 * 5 = 10\n",
            "10 * 6 = 10\n",
            "10 * 7 = 10\n",
            "10 * 8 = 10\n",
            "10 * 9 = 10\n",
            "10 * 10 = 10\n"
          ]
        }
      ]
    },
    {
      "cell_type": "markdown",
      "source": [
        "Print the series of first n fibonacci numbers"
      ],
      "metadata": {
        "id": "I1MsZwUc4Tn6"
      }
    },
    {
      "cell_type": "code",
      "source": [
        "n=int(input(\"enter a number:\"))\n",
        "a=0\n",
        "b=1\n",
        "for i in range(0,n):\n",
        "  c=a+b\n",
        "  a=b\n",
        "  b=c\n",
        "  print(c)"
      ],
      "metadata": {
        "colab": {
          "base_uri": "https://localhost:8080/"
        },
        "id": "nmOZozLo4Xxs",
        "outputId": "fe2a3501-33ac-4d05-e996-69f013e4e808"
      },
      "execution_count": null,
      "outputs": [
        {
          "output_type": "stream",
          "name": "stdout",
          "text": [
            "enter a number:10\n",
            "1\n",
            "2\n",
            "3\n",
            "5\n",
            "8\n",
            "13\n",
            "21\n",
            "34\n",
            "55\n",
            "89\n"
          ]
        }
      ]
    }
  ]
}