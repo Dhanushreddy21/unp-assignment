{
  "nbformat": 4,
  "nbformat_minor": 0,
  "metadata": {
    "colab": {
      "name": "assignment 3 .ipynb",
      "provenance": []
    },
    "kernelspec": {
      "name": "python3",
      "display_name": "Python 3"
    },
    "language_info": {
      "name": "python"
    }
  },
  "cells": [
    {
      "cell_type": "markdown",
      "source": [
        "Write a small program to check a number is divisible by 7 or not"
      ],
      "metadata": {
        "id": "tnT9L5YKRMJ_"
      }
    },
    {
      "cell_type": "code",
      "source": [
        "n=int(input(\"Enter a number:\"))\n",
        "if n%7==0:\n",
        "  print(\"Number is divisible by 7\")\n",
        "else:\n",
        "  print(\"Not divisible by 7\")"
      ],
      "metadata": {
        "colab": {
          "base_uri": "https://localhost:8080/"
        },
        "id": "-AvPtC8zRNDd",
        "outputId": "2d6311c8-9634-4101-e89f-b3f83cac9d30"
      },
      "execution_count": null,
      "outputs": [
        {
          "output_type": "stream",
          "name": "stdout",
          "text": [
            "Enter a number:54\n",
            "Not divisible by 7\n"
          ]
        }
      ]
    },
    {
      "cell_type": "markdown",
      "source": [
        "If a number is divisible by either 5 or 7, then we will call it a 'five-or-seven' number.\n",
        "Write down a program to check if a number is 'five-or-seven' number or not."
      ],
      "metadata": {
        "id": "Hz7QI9PJRZwu"
      }
    },
    {
      "cell_type": "code",
      "source": [
        "n=int(input(\"Enter a number:\"))\n",
        "if (n%7==0) and (n%5==0):\n",
        "  print(\"Number is divisible\")\n",
        "elif(n%7==0):\n",
        "  print(\"divisible by only 7\")\n",
        "elif(n%5==0):\n",
        "  print(\"divisible by only 5\")\n",
        "else:\n",
        "  print(\"None\")"
      ],
      "metadata": {
        "colab": {
          "base_uri": "https://localhost:8080/"
        },
        "id": "Oo1GDIw5RhmG",
        "outputId": "38da6ad2-36c1-496f-d014-1716061c1d27"
      },
      "execution_count": null,
      "outputs": [
        {
          "output_type": "stream",
          "name": "stdout",
          "text": [
            "Enter a number:25\n",
            "divisible by only 5\n"
          ]
        }
      ]
    },
    {
      "cell_type": "markdown",
      "source": [
        "Write a program to calculate the electricity bill (accept number of unit from user) according to the following criteria:\n",
        "\n",
        "Upto first 100 units Rs. 3 per unit.\n",
        "Next 100 units Rs. 5 per unit.\n",
        "Next 300 units Rs. 7 per unit.\n",
        "Above that, for each unit exceeding 500, Rs. 10 per unit flat."
      ],
      "metadata": {
        "id": "m3QQTiiQRqWg"
      }
    },
    {
      "cell_type": "code",
      "source": [
        "n=int(input(\"enter units of current:\"))\n",
        "amount=0\n",
        "if(n<=100):\n",
        "  amount=n*3\n",
        "elif(n<=200):\n",
        "  amount=n*5\n",
        "elif(n<=500):\n",
        "  amount=n*7\n",
        "else:\n",
        "  amount=n*10\n",
        "print(amount)"
      ],
      "metadata": {
        "colab": {
          "base_uri": "https://localhost:8080/"
        },
        "id": "hdF__1JURrPN",
        "outputId": "55c0de98-cb0e-4950-b818-5d172c7d7c78"
      },
      "execution_count": null,
      "outputs": [
        {
          "output_type": "stream",
          "name": "stdout",
          "text": [
            "enter units of current:150\n",
            "750\n"
          ]
        }
      ]
    },
    {
      "cell_type": "markdown",
      "source": [
        "Find out sum of square of all the numbers upto 10, starting from 1"
      ],
      "metadata": {
        "id": "o8ID18gXR03l"
      }
    },
    {
      "cell_type": "code",
      "source": [
        "n = 10\n",
        "sum = 0\n",
        "for s in range(1,n+1):\n",
        "  sum = sum + (s*s)\n",
        "print(\"Sum of squares is : \", sum)"
      ],
      "metadata": {
        "colab": {
          "base_uri": "https://localhost:8080/"
        },
        "id": "MvnAOJjOR2At",
        "outputId": "58a20f31-dd2c-46c4-c44c-11a3f8c8a3bf"
      },
      "execution_count": null,
      "outputs": [
        {
          "output_type": "stream",
          "name": "stdout",
          "text": [
            "Sum of squares is :  385\n"
          ]
        }
      ]
    },
    {
      "cell_type": "markdown",
      "source": [
        "Find out sum of square of all the even numbers upto 10, starting from 1"
      ],
      "metadata": {
        "id": "5jVKyGE-R9c6"
      }
    },
    {
      "cell_type": "code",
      "source": [
        "n=int(input(\"Enter no.range\"))\n",
        "s=0\n",
        "i=0\n",
        "while(i<n):\n",
        "  if(i%2==0):\n",
        "    s=s+(i*i)\n",
        "  i+=1\n",
        "print(\"Sum of square of even natural no.is:\",s)"
      ],
      "metadata": {
        "colab": {
          "base_uri": "https://localhost:8080/"
        },
        "id": "bZGmZOyPR-JU",
        "outputId": "8b5a3c68-f9c4-4de3-e6c2-9abe8fd400f5"
      },
      "execution_count": null,
      "outputs": [
        {
          "output_type": "stream",
          "name": "stdout",
          "text": [
            "Enter no.range15\n",
            "Sum of square of even natural no.is: 560\n"
          ]
        }
      ]
    },
    {
      "cell_type": "markdown",
      "source": [
        "Check a number is prime or not"
      ],
      "metadata": {
        "id": "1qMc0nQ4SERW"
      }
    },
    {
      "cell_type": "code",
      "source": [
        "n=int(input(\"Enter any number:\"))\n",
        "if n>1:\n",
        "  for i in range(2,n):\n",
        "    if(n%i == 0):\n",
        "      print(n,\"is not prime\")\n",
        "      break\n",
        "  else:\n",
        "    print(n,\"number is prime\")"
      ],
      "metadata": {
        "colab": {
          "base_uri": "https://localhost:8080/"
        },
        "id": "kfq8ii3hSGgN",
        "outputId": "f11c10ae-979b-47a7-ba78-5122ef6c4ba9"
      },
      "execution_count": null,
      "outputs": [
        {
          "output_type": "stream",
          "name": "stdout",
          "text": [
            "Enter any number:25\n",
            "25 is not prime\n"
          ]
        }
      ]
    },
    {
      "cell_type": "markdown",
      "source": [
        "Print multiplication table upto 10 starting from 1"
      ],
      "metadata": {
        "id": "zvhLXKRNSKvs"
      }
    },
    {
      "cell_type": "code",
      "source": [
        "num = 10\n",
        "#iterate 10 times i = 1 to 10\n",
        "for i in range(1,11):\n",
        "  print(num, 'x', i, '=',num*i)"
      ],
      "metadata": {
        "colab": {
          "base_uri": "https://localhost:8080/"
        },
        "id": "pV4uFvKPSMw8",
        "outputId": "a994c5b5-f314-47ea-8f27-8a0c6febe49d"
      },
      "execution_count": null,
      "outputs": [
        {
          "output_type": "stream",
          "name": "stdout",
          "text": [
            "10 x 1 = 10\n",
            "10 x 2 = 20\n",
            "10 x 3 = 30\n",
            "10 x 4 = 40\n",
            "10 x 5 = 50\n",
            "10 x 6 = 60\n",
            "10 x 7 = 70\n",
            "10 x 8 = 80\n",
            "10 x 9 = 90\n",
            "10 x 10 = 100\n"
          ]
        }
      ]
    },
    {
      "cell_type": "markdown",
      "source": [
        "Print the series of first n fibonacci numbers"
      ],
      "metadata": {
        "id": "ZAPwImAiSQRO"
      }
    },
    {
      "cell_type": "code",
      "source": [
        "n = int(input(\"How many terms?\"))\n",
        "\n",
        "#first two terms\n",
        "n1, n2 = 0, 1\n",
        "count = 0\n",
        "\n",
        "# check if the number of terms is valid\n",
        "if n <= 0:\n",
        "  print(\"Please enter a positive integer\")\n",
        "#if there is only one term,return n1\n",
        "elif n == 1:\n",
        "  print(\"Fibonacci sequence upto\",n,\":\")\n",
        "  print(n1)\n",
        "#generate fibonacci sequence\n",
        "else:\n",
        "  print(\"Fibonacci sequence:\")\n",
        "  while count < n:\n",
        "    print(n1)\n",
        "    nth = n1 + n2\n",
        "    # update values\n",
        "    n1 = n2\n",
        "    n2 = nth\n",
        "    count += 1"
      ],
      "metadata": {
        "colab": {
          "base_uri": "https://localhost:8080/"
        },
        "id": "ew5blMwrSSI9",
        "outputId": "d9f75690-4ac3-41d1-b9a5-0001cd4338ec"
      },
      "execution_count": null,
      "outputs": [
        {
          "output_type": "stream",
          "name": "stdout",
          "text": [
            "How many terms?8\n",
            "Fibonacci sequence:\n",
            "0\n",
            "1\n",
            "1\n",
            "2\n",
            "3\n",
            "5\n",
            "8\n",
            "13\n"
          ]
        }
      ]
    }
  ]
}